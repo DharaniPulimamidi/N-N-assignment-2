{
 "cells": [
  {
   "cell_type": "code",
   "execution_count": 1,
   "id": "c005bb14",
   "metadata": {},
   "outputs": [
    {
     "name": "stdout",
     "output_type": "stream",
     "text": [
      "4\n",
      "7\n",
      "8\n",
      "0\n"
     ]
    }
   ],
   "source": [
    "# Take input from user\n",
    "heights=[]\n",
    "#using nested interactive loop\n",
    "while True:\n",
    "    x=float(input())\n",
    "    if(x<=0):\n",
    "        break\n",
    "#Appending the input        \n",
    "    heights.append(x)"
   ]
  },
  {
   "cell_type": "code",
   "execution_count": 3,
   "id": "57dd4eb5",
   "metadata": {},
   "outputs": [
    {
     "name": "stdout",
     "output_type": "stream",
     "text": [
      "[10.16, 17.78, 20.32]\n"
     ]
    }
   ],
   "source": [
    "output=[x*2.54 for x in heights]\n",
    "#Printing the output\n",
    "print(output)"
   ]
  },
  {
   "cell_type": "code",
   "execution_count": null,
   "id": "b9a9f076",
   "metadata": {},
   "outputs": [],
   "source": []
  }
 ],
 "metadata": {
  "kernelspec": {
   "display_name": "Python 3 (ipykernel)",
   "language": "python",
   "name": "python3"
  },
  "language_info": {
   "codemirror_mode": {
    "name": "ipython",
    "version": 3
   },
   "file_extension": ".py",
   "mimetype": "text/x-python",
   "name": "python",
   "nbconvert_exporter": "python",
   "pygments_lexer": "ipython3",
   "version": "3.11.1"
  }
 },
 "nbformat": 4,
 "nbformat_minor": 5
}
